{
 "cells": [
  {
   "cell_type": "markdown",
   "id": "d9d4f836",
   "metadata": {},
   "source": [
    "Next, we use `dbt seed` to load raw data onto the data warehouse."
   ]
  },
  {
   "cell_type": "code",
   "execution_count": null,
   "id": "8651fe3b-5991-4a21-a5d7-1fdcb49bac34",
   "metadata": {
    "tags": []
   },
   "outputs": [],
   "source": [
    "!pwd"
   ]
  },
  {
   "cell_type": "code",
   "execution_count": null,
   "id": "230c09e7-ecf3-4ad1-9e31-7339dbe46783",
   "metadata": {
    "tags": []
   },
   "outputs": [],
   "source": [
    "%ls .."
   ]
  },
  {
   "cell_type": "code",
   "execution_count": null,
   "id": "c2c141b1",
   "metadata": {
    "tags": []
   },
   "outputs": [],
   "source": [
    "!dbt seed --profiles-dir ../config"
   ]
  },
  {
   "cell_type": "markdown",
   "id": "0efdfc0f",
   "metadata": {},
   "source": [
    "Now we can run our dbt models."
   ]
  },
  {
   "cell_type": "code",
   "execution_count": null,
   "id": "ae1e1da6",
   "metadata": {
    "tags": []
   },
   "outputs": [],
   "source": [
    "!dbt run -s customer_orders customer_orders_labeled --profiles-dir ../config"
   ]
  },
  {
   "cell_type": "code",
   "execution_count": null,
   "id": "18c06150-ebd2-45e0-be46-e2e8ab95e870",
   "metadata": {},
   "outputs": [],
   "source": []
  }
 ],
 "metadata": {
  "kernelspec": {
   "display_name": "Python [conda env:demeetup] *",
   "language": "python",
   "name": "conda-env-demeetup-py"
  },
  "language_info": {
   "codemirror_mode": {
    "name": "ipython",
    "version": 3
   },
   "file_extension": ".py",
   "mimetype": "text/x-python",
   "name": "python",
   "nbconvert_exporter": "python",
   "pygments_lexer": "ipython3",
   "version": "3.10.10"
  }
 },
 "nbformat": 4,
 "nbformat_minor": 5
}
