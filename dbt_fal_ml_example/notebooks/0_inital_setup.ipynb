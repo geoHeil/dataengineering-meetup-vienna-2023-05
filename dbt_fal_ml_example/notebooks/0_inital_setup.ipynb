{
 "cells": [
  {
   "cell_type": "markdown",
   "id": "d9d4f836",
   "metadata": {},
   "source": [
    "Next, we use `dbt seed` to load raw data onto the data warehouse."
   ]
  },
  {
   "cell_type": "code",
   "execution_count": 124,
   "id": "c2c141b1",
   "metadata": {},
   "outputs": [
    {
     "name": "stdout",
     "output_type": "stream",
     "text": [
      "\u001b[0m12:35:30  Running with dbt=1.4.4\n",
      "\u001b[0m12:35:30  Found 2 models, 0 tests, 0 snapshots, 0 analyses, 341 macros, 0 operations, 2 seed files, 0 sources, 0 exposures, 0 metrics\n",
      "\u001b[0m12:35:30  \n",
      "\u001b[0m12:35:31  Concurrency: 1 threads (target='staging')\n",
      "\u001b[0m12:35:31  \n",
      "\u001b[0m12:35:31  1 of 2 START seed file dbt_meder.raw_customer_order_data ....................... [RUN]\n",
      "\u001b[0m12:35:37  1 of 2 OK loaded seed file dbt_meder.raw_customer_order_data ................... [\u001b[32mINSERT 50\u001b[0m in 5.39s]\n",
      "\u001b[0m12:35:37  2 of 2 START seed file dbt_meder.raw_customer_order_data_labeled ............... [RUN]\n",
      "\u001b[0m12:35:55  2 of 2 OK loaded seed file dbt_meder.raw_customer_order_data_labeled ........... [\u001b[32mINSERT 1000\u001b[0m in 18.58s]\n",
      "\u001b[0m12:35:55  \n",
      "\u001b[0m12:35:55  Finished running 2 seeds in 0 hours 0 minutes and 24.96 seconds (24.96s).\n",
      "\u001b[0m12:35:55  \n",
      "\u001b[0m12:35:55  \u001b[32mCompleted successfully\u001b[0m\n",
      "\u001b[0m12:35:55  \n",
      "\u001b[0m12:35:55  Done. PASS=2 WARN=0 ERROR=0 SKIP=0 TOTAL=2\n"
     ]
    }
   ],
   "source": [
    "!dbt seed --profiles-dir .."
   ]
  },
  {
   "cell_type": "markdown",
   "id": "0efdfc0f",
   "metadata": {},
   "source": [
    "Now we can run our dbt models."
   ]
  },
  {
   "cell_type": "code",
   "execution_count": 18,
   "id": "ae1e1da6",
   "metadata": {},
   "outputs": [],
   "source": [
    "!dbt run -s customer_orders customer_orders_labeled --profiles-dir .."
   ]
  }
 ],
 "metadata": {
  "kernelspec": {
   "display_name": "Python [conda env:demeetup] *",
   "language": "python",
   "name": "conda-env-demeetup-py"
  },
  "language_info": {
   "codemirror_mode": {
    "name": "ipython",
    "version": 3
   },
   "file_extension": ".py",
   "mimetype": "text/x-python",
   "name": "python",
   "nbconvert_exporter": "python",
   "pygments_lexer": "ipython3",
   "version": "3.10.10"
  }
 },
 "nbformat": 4,
 "nbformat_minor": 5
}
