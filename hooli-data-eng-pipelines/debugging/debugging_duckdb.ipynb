{
 "cells": [
  {
   "cell_type": "code",
   "execution_count": null,
   "id": "963b8db5-3cb9-4a4d-a346-48e0b71bccbc",
   "metadata": {
    "tags": []
   },
   "outputs": [],
   "source": [
    "import pandas as pd\n",
    "import duckdb"
   ]
  },
  {
   "cell_type": "code",
   "execution_count": null,
   "id": "7936b35d-8ae4-4ea4-838e-9b56e88ceed2",
   "metadata": {
    "tags": []
   },
   "outputs": [],
   "source": [
    "%ls ../dbt_project/"
   ]
  },
  {
   "cell_type": "code",
   "execution_count": null,
   "id": "d3e82162-e703-4ebd-a9ee-001f4d7710ab",
   "metadata": {
    "tags": []
   },
   "outputs": [],
   "source": [
    "conn = duckdb.connect(database='../dbt_project/example.duckdb', read_only=True)"
   ]
  },
  {
   "cell_type": "code",
   "execution_count": null,
   "id": "dd0d58b6-3182-43ad-b7d1-37705ed7fc4f",
   "metadata": {
    "tags": []
   },
   "outputs": [],
   "source": [
    "conn"
   ]
  },
  {
   "cell_type": "code",
   "execution_count": null,
   "id": "27edcda2-2f26-4221-816c-4dccf4395ed9",
   "metadata": {
    "tags": []
   },
   "outputs": [],
   "source": [
    "conn.execute('show tables').fetchall()"
   ]
  },
  {
   "cell_type": "code",
   "execution_count": null,
   "id": "d9ad70ff-d9f7-435f-90f6-6944b0f42111",
   "metadata": {
    "tags": []
   },
   "outputs": [],
   "source": [
    "conn.execute('show databases').fetchall()"
   ]
  },
  {
   "cell_type": "code",
   "execution_count": null,
   "id": "52b384fb-dddc-4ce2-a7da-861e0d2cfaff",
   "metadata": {
    "tags": []
   },
   "outputs": [],
   "source": [
    "conn.execute('use example').fetchall()"
   ]
  },
  {
   "cell_type": "code",
   "execution_count": null,
   "id": "9928fb59-09b7-4f59-be74-8c46cf81066a",
   "metadata": {
    "tags": []
   },
   "outputs": [],
   "source": [
    "conn.execute('select * from example.MARKETING.avg_order').fetchall()"
   ]
  },
  {
   "cell_type": "code",
   "execution_count": null,
   "id": "a1a5c5c9-0cb4-4090-a099-bdc866e7a56c",
   "metadata": {
    "tags": []
   },
   "outputs": [],
   "source": [
    "conn.query(\"select * from example.analytics.sku_stats\").to_df()"
   ]
  },
  {
   "cell_type": "code",
   "execution_count": null,
   "id": "c95856d4-a2d1-4509-8511-13033b9b5a0b",
   "metadata": {
    "tags": []
   },
   "outputs": [],
   "source": [
    "conn.query(\"select * from example.analytics.sku_stats\").to_df().sku.value_counts()"
   ]
  },
  {
   "cell_type": "code",
   "execution_count": null,
   "id": "600469ac-402b-4d39-8520-a37a80c8aa77",
   "metadata": {},
   "outputs": [],
   "source": []
  }
 ],
 "metadata": {
  "kernelspec": {
   "display_name": "Python [conda env:demeetup] *",
   "language": "python",
   "name": "conda-env-demeetup-py"
  },
  "language_info": {
   "codemirror_mode": {
    "name": "ipython",
    "version": 3
   },
   "file_extension": ".py",
   "mimetype": "text/x-python",
   "name": "python",
   "nbconvert_exporter": "python",
   "pygments_lexer": "ipython3",
   "version": "3.10.10"
  }
 },
 "nbformat": 4,
 "nbformat_minor": 5
}
